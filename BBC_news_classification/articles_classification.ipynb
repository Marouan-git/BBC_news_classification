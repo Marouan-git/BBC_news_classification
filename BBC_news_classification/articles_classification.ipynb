{
 "cells": [
  {
   "cell_type": "markdown",
   "metadata": {},
   "source": [
    "# BBC news articles classification\n",
    "\n",
    "The purpose of this project is to develop a news article recommendation system. The system works as follows:\n",
    "- A news article provided by the user is classified by an algorithm.\n",
    "- Another algorithm looks for other similar articles belonging to the same class and provides a list of news articles ranked according to their similarity with the article provided by the user.\n",
    "\n",
    "The purpose of this notebook is to develop the first part of this recommendation system: a model that classifies BBC news articles.  \n",
    "  \n",
    "The dataset used to that end is a public dataset named [BBC News Classification](https://kaggle.com/competitions/learn-ai-bbc).  \n",
    "It's comprised of 2225 articles, each labeled under one of 5 categories: **business**, **entertainment**, **politics**, **sport or tech**."
   ]
  },
  {
   "cell_type": "code",
   "execution_count": 277,
   "metadata": {},
   "outputs": [
    {
     "name": "stderr",
     "output_type": "stream",
     "text": [
      "[nltk_data] Downloading package stopwords to\n",
      "[nltk_data]     C:\\Users\\haddo\\AppData\\Roaming\\nltk_data...\n",
      "[nltk_data]   Package stopwords is already up-to-date!\n"
     ]
    },
    {
     "data": {
      "text/plain": [
       "True"
      ]
     },
     "execution_count": 277,
     "metadata": {},
     "output_type": "execute_result"
    }
   ],
   "source": [
    "import pandas as pd\n",
    "import numpy as np\n",
    "import matplotlib.pyplot as plt\n",
    "import seaborn as sns\n",
    "\n",
    "import nltk\n",
    "from nltk.corpus import stopwords\n",
    "from nltk.stem import WordNetLemmatizer\n",
    "\n",
    "from sklearn.pipeline import Pipeline, make_pipeline\n",
    "from sklearn.feature_extraction.text import CountVectorizer, TfidfTransformer\n",
    "from sklearn.model_selection import train_test_split\n",
    "from sklearn.svm import SVC\n",
    "from sklearn.neighbors import KNeighborsClassifier\n",
    "from sklearn.metrics import confusion_matrix, ConfusionMatrixDisplay\n",
    "from sklearn.metrics import classification_report\n",
    "from sklearn.preprocessing import StandardScaler\n",
    "from sklearn.model_selection import cross_val_score\n",
    "\n",
    "from joblib import dump, load\n",
    "\n",
    "import string\n",
    "\n",
    "nltk.download('stopwords')"
   ]
  },
  {
   "cell_type": "markdown",
   "metadata": {},
   "source": [
    "## Data import and exploration\n",
    "\n",
    "First of all, the data is imported in a pandas dataframe in order to facilitate data visualisation and processing.  \n",
    "  \n",
    "The data is already split into train and test dataset (the test datas is not labelled) :\n",
    "- 1490 articles for the train dataset.\n",
    "- 735 articles for the test dataset."
   ]
  },
  {
   "cell_type": "markdown",
   "metadata": {},
   "source": [
    "### Data information"
   ]
  },
  {
   "cell_type": "markdown",
   "metadata": {},
   "source": []
  },
  {
   "cell_type": "code",
   "execution_count": 278,
   "metadata": {},
   "outputs": [
    {
     "data": {
      "text/html": [
       "<div>\n",
       "<style scoped>\n",
       "    .dataframe tbody tr th:only-of-type {\n",
       "        vertical-align: middle;\n",
       "    }\n",
       "\n",
       "    .dataframe tbody tr th {\n",
       "        vertical-align: top;\n",
       "    }\n",
       "\n",
       "    .dataframe thead th {\n",
       "        text-align: right;\n",
       "    }\n",
       "</style>\n",
       "<table border=\"1\" class=\"dataframe\">\n",
       "  <thead>\n",
       "    <tr style=\"text-align: right;\">\n",
       "      <th></th>\n",
       "      <th>ArticleId</th>\n",
       "      <th>Text</th>\n",
       "      <th>Category</th>\n",
       "    </tr>\n",
       "  </thead>\n",
       "  <tbody>\n",
       "    <tr>\n",
       "      <th>0</th>\n",
       "      <td>1833</td>\n",
       "      <td>worldcom ex-boss launches defence lawyers defe...</td>\n",
       "      <td>business</td>\n",
       "    </tr>\n",
       "    <tr>\n",
       "      <th>1</th>\n",
       "      <td>154</td>\n",
       "      <td>german business confidence slides german busin...</td>\n",
       "      <td>business</td>\n",
       "    </tr>\n",
       "    <tr>\n",
       "      <th>2</th>\n",
       "      <td>1101</td>\n",
       "      <td>bbc poll indicates economic gloom citizens in ...</td>\n",
       "      <td>business</td>\n",
       "    </tr>\n",
       "    <tr>\n",
       "      <th>3</th>\n",
       "      <td>1976</td>\n",
       "      <td>lifestyle  governs mobile choice  faster  bett...</td>\n",
       "      <td>tech</td>\n",
       "    </tr>\n",
       "    <tr>\n",
       "      <th>4</th>\n",
       "      <td>917</td>\n",
       "      <td>enron bosses in $168m payout eighteen former e...</td>\n",
       "      <td>business</td>\n",
       "    </tr>\n",
       "    <tr>\n",
       "      <th>5</th>\n",
       "      <td>1582</td>\n",
       "      <td>howard  truanted to play snooker  conservative...</td>\n",
       "      <td>politics</td>\n",
       "    </tr>\n",
       "    <tr>\n",
       "      <th>6</th>\n",
       "      <td>651</td>\n",
       "      <td>wales silent on grand slam talk rhys williams ...</td>\n",
       "      <td>sport</td>\n",
       "    </tr>\n",
       "    <tr>\n",
       "      <th>7</th>\n",
       "      <td>1797</td>\n",
       "      <td>french honour for director parker british film...</td>\n",
       "      <td>entertainment</td>\n",
       "    </tr>\n",
       "    <tr>\n",
       "      <th>8</th>\n",
       "      <td>2034</td>\n",
       "      <td>car giant hit by mercedes slump a slump in pro...</td>\n",
       "      <td>business</td>\n",
       "    </tr>\n",
       "    <tr>\n",
       "      <th>9</th>\n",
       "      <td>1866</td>\n",
       "      <td>fockers fuel festive film chart comedy meet th...</td>\n",
       "      <td>entertainment</td>\n",
       "    </tr>\n",
       "  </tbody>\n",
       "</table>\n",
       "</div>"
      ],
      "text/plain": [
       "   ArticleId                                               Text       Category\n",
       "0       1833  worldcom ex-boss launches defence lawyers defe...       business\n",
       "1        154  german business confidence slides german busin...       business\n",
       "2       1101  bbc poll indicates economic gloom citizens in ...       business\n",
       "3       1976  lifestyle  governs mobile choice  faster  bett...           tech\n",
       "4        917  enron bosses in $168m payout eighteen former e...       business\n",
       "5       1582  howard  truanted to play snooker  conservative...       politics\n",
       "6        651  wales silent on grand slam talk rhys williams ...          sport\n",
       "7       1797  french honour for director parker british film...  entertainment\n",
       "8       2034  car giant hit by mercedes slump a slump in pro...       business\n",
       "9       1866  fockers fuel festive film chart comedy meet th...  entertainment"
      ]
     },
     "execution_count": 278,
     "metadata": {},
     "output_type": "execute_result"
    }
   ],
   "source": [
    "df_train = pd.read_csv(\"../data/BBC_News_Train.csv\")\n",
    "df_test = pd.read_csv(\"../data/BBC_News_Test.csv\")\n",
    "\n",
    "df_train.head(10)"
   ]
  },
  {
   "cell_type": "code",
   "execution_count": 279,
   "metadata": {},
   "outputs": [
    {
     "name": "stdout",
     "output_type": "stream",
     "text": [
      "<class 'pandas.core.frame.DataFrame'>\n",
      "RangeIndex: 1490 entries, 0 to 1489\n",
      "Data columns (total 3 columns):\n",
      " #   Column     Non-Null Count  Dtype \n",
      "---  ------     --------------  ----- \n",
      " 0   ArticleId  1490 non-null   int64 \n",
      " 1   Text       1490 non-null   object\n",
      " 2   Category   1490 non-null   object\n",
      "dtypes: int64(1), object(2)\n",
      "memory usage: 35.0+ KB\n"
     ]
    }
   ],
   "source": [
    "df_train.info()"
   ]
  },
  {
   "cell_type": "code",
   "execution_count": 280,
   "metadata": {},
   "outputs": [
    {
     "name": "stdout",
     "output_type": "stream",
     "text": [
      "<class 'pandas.core.frame.DataFrame'>\n",
      "RangeIndex: 735 entries, 0 to 734\n",
      "Data columns (total 2 columns):\n",
      " #   Column     Non-Null Count  Dtype \n",
      "---  ------     --------------  ----- \n",
      " 0   ArticleId  735 non-null    int64 \n",
      " 1   Text       735 non-null    object\n",
      "dtypes: int64(1), object(1)\n",
      "memory usage: 11.6+ KB\n"
     ]
    }
   ],
   "source": [
    "df_test.info()"
   ]
  },
  {
   "cell_type": "markdown",
   "metadata": {},
   "source": [
    "Here's an example of article."
   ]
  },
  {
   "cell_type": "code",
   "execution_count": 281,
   "metadata": {},
   "outputs": [
    {
     "data": {
      "text/plain": [
       "'worldcom ex-boss launches defence lawyers defending former worldcom chief bernie ebbers against a battery of fraud charges have called a company whistleblower as their first witness.  cynthia cooper  worldcom s ex-head of internal accounting  alerted directors to irregular accounting practices at the us telecoms giant in 2002. her warnings led to the collapse of the firm following the discovery of an $11bn (£5.7bn) accounting fraud. mr ebbers has pleaded not guilty to charges of fraud and conspiracy.  prosecution lawyers have argued that mr ebbers orchestrated a series of accounting tricks at worldcom  ordering employees to hide expenses and inflate revenues to meet wall street earnings estimates. but ms cooper  who now runs her own consulting business  told a jury in new york on wednesday that external auditors arthur andersen had approved worldcom s accounting in early 2001 and 2002. she said andersen had given a  green light  to the procedures and practices used by worldcom. mr ebber s lawyers have said he was unaware of the fraud  arguing that auditors did not alert him to any problems.  ms cooper also said that during shareholder meetings mr ebbers often passed over technical questions to the company s finance chief  giving only  brief  answers himself. the prosecution s star witness  former worldcom financial chief scott sullivan  has said that mr ebbers ordered accounting adjustments at the firm  telling him to  hit our books . however  ms cooper said mr sullivan had not mentioned  anything uncomfortable  about worldcom s accounting during a 2001 audit committee meeting. mr ebbers could face a jail sentence of 85 years if convicted of all the charges he is facing. worldcom emerged from bankruptcy protection in 2004  and is now known as mci. last week  mci agreed to a buyout by verizon communications in a deal valued at $6.75bn.'"
      ]
     },
     "execution_count": 281,
     "metadata": {},
     "output_type": "execute_result"
    }
   ],
   "source": [
    "df_train.iloc[0][\"Text\"]"
   ]
  },
  {
   "cell_type": "markdown",
   "metadata": {},
   "source": [
    "### Classes distribution"
   ]
  },
  {
   "cell_type": "markdown",
   "metadata": {},
   "source": [
    "Count the number of articles for each class in order to detect possible imbalanced data.  \n",
    "Imbalanced data could lead to bad results: the model is more likely to favor most represented classes over minority classes.\n",
    "  \n",
    "If the data is perfectly balanced, we should observe that each class represents 20% of the entire dataset.  \n",
    "  \n",
    "\n",
    "We observe that classes representation percentages range from 17.5% (minority class) to 23.2% (majority class).  \n",
    "It's close to what we expect (20% for each class), therefore the dataset is not considered as imbalanced."
   ]
  },
  {
   "cell_type": "code",
   "execution_count": 282,
   "metadata": {},
   "outputs": [
    {
     "data": {
      "text/plain": [
       "Category\n",
       "sport            346\n",
       "business         336\n",
       "politics         274\n",
       "entertainment    273\n",
       "tech             261\n",
       "Name: count, dtype: int64"
      ]
     },
     "execution_count": 282,
     "metadata": {},
     "output_type": "execute_result"
    }
   ],
   "source": [
    "df_train[\"Category\"].value_counts()"
   ]
  },
  {
   "cell_type": "markdown",
   "metadata": {},
   "source": [
    "Compute the percentage corresponding to each class representation with respect to the entire dataset."
   ]
  },
  {
   "cell_type": "code",
   "execution_count": 283,
   "metadata": {},
   "outputs": [
    {
     "data": {
      "text/plain": [
       "Category\n",
       "sport            0.232215\n",
       "business         0.225503\n",
       "politics         0.183893\n",
       "entertainment    0.183221\n",
       "tech             0.175168\n",
       "Name: proportion, dtype: float64"
      ]
     },
     "execution_count": 283,
     "metadata": {},
     "output_type": "execute_result"
    }
   ],
   "source": [
    "df_train[\"Category\"].value_counts(normalize=True)"
   ]
  },
  {
   "cell_type": "code",
   "execution_count": 284,
   "metadata": {},
   "outputs": [
    {
     "data": {
      "text/plain": [
       "(array([336.,   0., 261.,   0.,   0., 274.,   0., 346.,   0., 273.]),\n",
       " array([0. , 0.4, 0.8, 1.2, 1.6, 2. , 2.4, 2.8, 3.2, 3.6, 4. ]),\n",
       " <BarContainer object of 10 artists>)"
      ]
     },
     "execution_count": 284,
     "metadata": {},
     "output_type": "execute_result"
    },
    {
     "data": {
      "image/png": "[encoded data removed]",
      "text/plain": [
       "<Figure size 640x480 with 1 Axes>"
      ]
     },
     "metadata": {},
     "output_type": "display_data"
    }
   ],
   "source": [
    "plt.hist(df_train[\"Category\"])"
   ]
  },
  {
   "cell_type": "markdown",
   "metadata": {},
   "source": [
    "## Preprocessing"
   ]
  },
  {
   "cell_type": "markdown",
   "metadata": {},
   "source": [
    "It's important to perform the preprocessing on both training and test data since the model will be optimized to make inferences on preprocessed data."
   ]
  },
  {
   "cell_type": "code",
   "execution_count": 285,
   "metadata": {},
   "outputs": [
    {
     "data": {
      "text/plain": [
       "'worldcom ex-boss launches defence lawyers defending former worldcom chief bernie ebbers against a battery of fraud charges have called a company whistleblower as their first witness.  cynthia cooper  worldcom s ex-head of internal accounting  alerted directors to irregular accounting practices at the us telecoms giant in 2002. her warnings led to the collapse of the firm following the discovery of an $11bn (£5.7bn) accounting fraud. mr ebbers has pleaded not guilty to charges of fraud and conspiracy.  prosecution lawyers have argued that mr ebbers orchestrated a series of accounting tricks at worldcom  ordering employees to hide expenses and inflate revenues to meet wall street earnings estimates. but ms cooper  who now runs her own consulting business  told a jury in new york on wednesday that external auditors arthur andersen had approved worldcom s accounting in early 2001 and 2002. she said andersen had given a  green light  to the procedures and practices used by worldcom. mr ebber s lawyers have said he was unaware of the fraud  arguing that auditors did not alert him to any problems.  ms cooper also said that during shareholder meetings mr ebbers often passed over technical questions to the company s finance chief  giving only  brief  answers himself. the prosecution s star witness  former worldcom financial chief scott sullivan  has said that mr ebbers ordered accounting adjustments at the firm  telling him to  hit our books . however  ms cooper said mr sullivan had not mentioned  anything uncomfortable  about worldcom s accounting during a 2001 audit committee meeting. mr ebbers could face a jail sentence of 85 years if convicted of all the charges he is facing. worldcom emerged from bankruptcy protection in 2004  and is now known as mci. last week  mci agreed to a buyout by verizon communications in a deal valued at $6.75bn.'"
      ]
     },
     "execution_count": 285,
     "metadata": {},
     "output_type": "execute_result"
    }
   ],
   "source": [
    "# exemple text article pre-processing\n",
    "df_train.iloc[0][\"Text\"]"
   ]
  },
  {
   "cell_type": "markdown",
   "metadata": {},
   "source": [
    "#### Remove punctuation"
   ]
  },
  {
   "cell_type": "code",
   "execution_count": 286,
   "metadata": {},
   "outputs": [],
   "source": [
    "punctuation = string.punctuation\n",
    "df_train['Text'] = df_train['Text'].apply(lambda x: ''.join([i for i in x if i not in punctuation]).split())\n",
    "df_test['Text'] = df_test['Text'].apply(lambda x: ''.join([i for i in x if i not in punctuation]).split())"
   ]
  },
  {
   "cell_type": "code",
   "execution_count": 287,
   "metadata": {},
   "outputs": [
    {
     "data": {
      "text/plain": [
       "['worldcom',\n",
       " 'exboss',\n",
       " 'launches',\n",
       " 'defence',\n",
       " 'lawyers',\n",
       " 'defending',\n",
       " 'former',\n",
       " 'worldcom',\n",
       " 'chief',\n",
       " 'bernie',\n",
       " 'ebbers',\n",
       " 'against',\n",
       " 'a',\n",
       " 'battery',\n",
       " 'of',\n",
       " 'fraud',\n",
       " 'charges',\n",
       " 'have',\n",
       " 'called',\n",
       " 'a',\n",
       " 'company',\n",
       " 'whistleblower',\n",
       " 'as',\n",
       " 'their',\n",
       " 'first',\n",
       " 'witness',\n",
       " 'cynthia',\n",
       " 'cooper',\n",
       " 'worldcom',\n",
       " 's',\n",
       " 'exhead',\n",
       " 'of',\n",
       " 'internal',\n",
       " 'accounting',\n",
       " 'alerted',\n",
       " 'directors',\n",
       " 'to',\n",
       " 'irregular',\n",
       " 'accounting',\n",
       " 'practices',\n",
       " 'at',\n",
       " 'the',\n",
       " 'us',\n",
       " 'telecoms',\n",
       " 'giant',\n",
       " 'in',\n",
       " '2002',\n",
       " 'her',\n",
       " 'warnings',\n",
       " 'led',\n",
       " 'to',\n",
       " 'the',\n",
       " 'collapse',\n",
       " 'of',\n",
       " 'the',\n",
       " 'firm',\n",
       " 'following',\n",
       " 'the',\n",
       " 'discovery',\n",
       " 'of',\n",
       " 'an',\n",
       " '11bn',\n",
       " '£57bn',\n",
       " 'accounting',\n",
       " 'fraud',\n",
       " 'mr',\n",
       " 'ebbers',\n",
       " 'has',\n",
       " 'pleaded',\n",
       " 'not',\n",
       " 'guilty',\n",
       " 'to',\n",
       " 'charges',\n",
       " 'of',\n",
       " 'fraud',\n",
       " 'and',\n",
       " 'conspiracy',\n",
       " 'prosecution',\n",
       " 'lawyers',\n",
       " 'have',\n",
       " 'argued',\n",
       " 'that',\n",
       " 'mr',\n",
       " 'ebbers',\n",
       " 'orchestrated',\n",
       " 'a',\n",
       " 'series',\n",
       " 'of',\n",
       " 'accounting',\n",
       " 'tricks',\n",
       " 'at',\n",
       " 'worldcom',\n",
       " 'ordering',\n",
       " 'employees',\n",
       " 'to',\n",
       " 'hide',\n",
       " 'expenses',\n",
       " 'and',\n",
       " 'inflate',\n",
       " 'revenues',\n",
       " 'to',\n",
       " 'meet',\n",
       " 'wall',\n",
       " 'street',\n",
       " 'earnings',\n",
       " 'estimates',\n",
       " 'but',\n",
       " 'ms',\n",
       " 'cooper',\n",
       " 'who',\n",
       " 'now',\n",
       " 'runs',\n",
       " 'her',\n",
       " 'own',\n",
       " 'consulting',\n",
       " 'business',\n",
       " 'told',\n",
       " 'a',\n",
       " 'jury',\n",
       " 'in',\n",
       " 'new',\n",
       " 'york',\n",
       " 'on',\n",
       " 'wednesday',\n",
       " 'that',\n",
       " 'external',\n",
       " 'auditors',\n",
       " 'arthur',\n",
       " 'andersen',\n",
       " 'had',\n",
       " 'approved',\n",
       " 'worldcom',\n",
       " 's',\n",
       " 'accounting',\n",
       " 'in',\n",
       " 'early',\n",
       " '2001',\n",
       " 'and',\n",
       " '2002',\n",
       " 'she',\n",
       " 'said',\n",
       " 'andersen',\n",
       " 'had',\n",
       " 'given',\n",
       " 'a',\n",
       " 'green',\n",
       " 'light',\n",
       " 'to',\n",
       " 'the',\n",
       " 'procedures',\n",
       " 'and',\n",
       " 'practices',\n",
       " 'used',\n",
       " 'by',\n",
       " 'worldcom',\n",
       " 'mr',\n",
       " 'ebber',\n",
       " 's',\n",
       " 'lawyers',\n",
       " 'have',\n",
       " 'said',\n",
       " 'he',\n",
       " 'was',\n",
       " 'unaware',\n",
       " 'of',\n",
       " 'the',\n",
       " 'fraud',\n",
       " 'arguing',\n",
       " 'that',\n",
       " 'auditors',\n",
       " 'did',\n",
       " 'not',\n",
       " 'alert',\n",
       " 'him',\n",
       " 'to',\n",
       " 'any',\n",
       " 'problems',\n",
       " 'ms',\n",
       " 'cooper',\n",
       " 'also',\n",
       " 'said',\n",
       " 'that',\n",
       " 'during',\n",
       " 'shareholder',\n",
       " 'meetings',\n",
       " 'mr',\n",
       " 'ebbers',\n",
       " 'often',\n",
       " 'passed',\n",
       " 'over',\n",
       " 'technical',\n",
       " 'questions',\n",
       " 'to',\n",
       " 'the',\n",
       " 'company',\n",
       " 's',\n",
       " 'finance',\n",
       " 'chief',\n",
       " 'giving',\n",
       " 'only',\n",
       " 'brief',\n",
       " 'answers',\n",
       " 'himself',\n",
       " 'the',\n",
       " 'prosecution',\n",
       " 's',\n",
       " 'star',\n",
       " 'witness',\n",
       " 'former',\n",
       " 'worldcom',\n",
       " 'financial',\n",
       " 'chief',\n",
       " 'scott',\n",
       " 'sullivan',\n",
       " 'has',\n",
       " 'said',\n",
       " 'that',\n",
       " 'mr',\n",
       " 'ebbers',\n",
       " 'ordered',\n",
       " 'accounting',\n",
       " 'adjustments',\n",
       " 'at',\n",
       " 'the',\n",
       " 'firm',\n",
       " 'telling',\n",
       " 'him',\n",
       " 'to',\n",
       " 'hit',\n",
       " 'our',\n",
       " 'books',\n",
       " 'however',\n",
       " 'ms',\n",
       " 'cooper',\n",
       " 'said',\n",
       " 'mr',\n",
       " 'sullivan',\n",
       " 'had',\n",
       " 'not',\n",
       " 'mentioned',\n",
       " 'anything',\n",
       " 'uncomfortable',\n",
       " 'about',\n",
       " 'worldcom',\n",
       " 's',\n",
       " 'accounting',\n",
       " 'during',\n",
       " 'a',\n",
       " '2001',\n",
       " 'audit',\n",
       " 'committee',\n",
       " 'meeting',\n",
       " 'mr',\n",
       " 'ebbers',\n",
       " 'could',\n",
       " 'face',\n",
       " 'a',\n",
       " 'jail',\n",
       " 'sentence',\n",
       " 'of',\n",
       " '85',\n",
       " 'years',\n",
       " 'if',\n",
       " 'convicted',\n",
       " 'of',\n",
       " 'all',\n",
       " 'the',\n",
       " 'charges',\n",
       " 'he',\n",
       " 'is',\n",
       " 'facing',\n",
       " 'worldcom',\n",
       " 'emerged',\n",
       " 'from',\n",
       " 'bankruptcy',\n",
       " 'protection',\n",
       " 'in',\n",
       " '2004',\n",
       " 'and',\n",
       " 'is',\n",
       " 'now',\n",
       " 'known',\n",
       " 'as',\n",
       " 'mci',\n",
       " 'last',\n",
       " 'week',\n",
       " 'mci',\n",
       " 'agreed',\n",
       " 'to',\n",
       " 'a',\n",
       " 'buyout',\n",
       " 'by',\n",
       " 'verizon',\n",
       " 'communications',\n",
       " 'in',\n",
       " 'a',\n",
       " 'deal',\n",
       " 'valued',\n",
       " 'at',\n",
       " '675bn']"
      ]
     },
     "execution_count": 287,
     "metadata": {},
     "output_type": "execute_result"
    }
   ],
   "source": [
    "df_train.iloc[0][\"Text\"]"
   ]
  },
  {
   "cell_type": "markdown",
   "metadata": {},
   "source": [
    "We observe that there are prepositions like \"to\", \"at\" or \"of\" that will not bring much value for the prediction. Let's remove them."
   ]
  },
  {
   "cell_type": "markdown",
   "metadata": {},
   "source": [
    "#### Remove stop words"
   ]
  },
  {
   "cell_type": "code",
   "execution_count": 288,
   "metadata": {},
   "outputs": [],
   "source": [
    "stop_words = stopwords.words('english')\n",
    "\n",
    "df_train['Text'] = df_train['Text'].apply(lambda x: ' '.join([i for i in x if i not in stop_words]))\n",
    "df_test['Text'] = df_test['Text'].apply(lambda x: ' '.join([i for i in x if i not in stop_words]))"
   ]
  },
  {
   "cell_type": "code",
   "execution_count": 289,
   "metadata": {},
   "outputs": [
    {
     "data": {
      "text/plain": [
       "'worldcom exboss launches defence lawyers defending former worldcom chief bernie ebbers battery fraud charges called company whistleblower first witness cynthia cooper worldcom exhead internal accounting alerted directors irregular accounting practices us telecoms giant 2002 warnings led collapse firm following discovery 11bn £57bn accounting fraud mr ebbers pleaded guilty charges fraud conspiracy prosecution lawyers argued mr ebbers orchestrated series accounting tricks worldcom ordering employees hide expenses inflate revenues meet wall street earnings estimates ms cooper runs consulting business told jury new york wednesday external auditors arthur andersen approved worldcom accounting early 2001 2002 said andersen given green light procedures practices used worldcom mr ebber lawyers said unaware fraud arguing auditors alert problems ms cooper also said shareholder meetings mr ebbers often passed technical questions company finance chief giving brief answers prosecution star witness former worldcom financial chief scott sullivan said mr ebbers ordered accounting adjustments firm telling hit books however ms cooper said mr sullivan mentioned anything uncomfortable worldcom accounting 2001 audit committee meeting mr ebbers could face jail sentence 85 years convicted charges facing worldcom emerged bankruptcy protection 2004 known mci last week mci agreed buyout verizon communications deal valued 675bn'"
      ]
     },
     "execution_count": 289,
     "metadata": {},
     "output_type": "execute_result"
    }
   ],
   "source": [
    "df_train.iloc[0][\"Text\"]"
   ]
  },
  {
   "cell_type": "markdown",
   "metadata": {},
   "source": [
    "#### Lemmatization\n",
    "\n",
    "Perform lemmatization to facilitate the semantic analysis.  \n",
    "The WordNetLemmatizer is used. It's not necesarly the most efficient lemmatizer for this dataset since it's been built on WordNet dataset, but it still contributes to text normalization and semantic accuracy improvement (contrarly to stemming)."
   ]
  },
  {
   "cell_type": "code",
   "execution_count": 290,
   "metadata": {},
   "outputs": [],
   "source": [
    "lemmatizer = WordNetLemmatizer()\n",
    "\n",
    "df_train['Text'] = df_train['Text'].apply(lambda x: ' '.join([lemmatizer.lemmatize(word) for word in x.split()]))\n",
    "df_test['Text'] = df_test['Text'].apply(lambda x: ' '.join([lemmatizer.lemmatize(word) for word in x.split()]))"
   ]
  },
  {
   "cell_type": "markdown",
   "metadata": {},
   "source": []
  },
  {
   "cell_type": "code",
   "execution_count": 291,
   "metadata": {},
   "outputs": [
    {
     "data": {
      "text/plain": [
       "'worldcom exboss launch defence lawyer defending former worldcom chief bernie ebbers battery fraud charge called company whistleblower first witness cynthia cooper worldcom exhead internal accounting alerted director irregular accounting practice u telecom giant 2002 warning led collapse firm following discovery 11bn £57bn accounting fraud mr ebbers pleaded guilty charge fraud conspiracy prosecution lawyer argued mr ebbers orchestrated series accounting trick worldcom ordering employee hide expense inflate revenue meet wall street earnings estimate m cooper run consulting business told jury new york wednesday external auditor arthur andersen approved worldcom accounting early 2001 2002 said andersen given green light procedure practice used worldcom mr ebber lawyer said unaware fraud arguing auditor alert problem m cooper also said shareholder meeting mr ebbers often passed technical question company finance chief giving brief answer prosecution star witness former worldcom financial chief scott sullivan said mr ebbers ordered accounting adjustment firm telling hit book however m cooper said mr sullivan mentioned anything uncomfortable worldcom accounting 2001 audit committee meeting mr ebbers could face jail sentence 85 year convicted charge facing worldcom emerged bankruptcy protection 2004 known mci last week mci agreed buyout verizon communication deal valued 675bn'"
      ]
     },
     "execution_count": 291,
     "metadata": {},
     "output_type": "execute_result"
    }
   ],
   "source": [
    "df_train.iloc[0][\"Text\"]"
   ]
  },
  {
   "cell_type": "markdown",
   "metadata": {},
   "source": [
    "#### Export pre processed data"
   ]
  },
  {
   "cell_type": "code",
   "execution_count": 292,
   "metadata": {},
   "outputs": [],
   "source": [
    "df_train.to_csv(\"../data/BBC_News_Train_PREPROCESSED.csv\")"
   ]
  },
  {
   "cell_type": "markdown",
   "metadata": {},
   "source": [
    "## Classification model"
   ]
  },
  {
   "cell_type": "markdown",
   "metadata": {},
   "source": [
    "### Split data"
   ]
  },
  {
   "cell_type": "code",
   "execution_count": 293,
   "metadata": {},
   "outputs": [],
   "source": [
    "X = df_train[\"Text\"]\n",
    "y = df_train[\"Category\"]\n",
    "\n",
    "X_train, X_test, y_train, y_test = train_test_split(\n",
    "     X, y, test_size=0.33, random_state=42)"
   ]
  },
  {
   "cell_type": "markdown",
   "metadata": {},
   "source": [
    "### SVC model"
   ]
  },
  {
   "cell_type": "markdown",
   "metadata": {},
   "source": [
    "#### Training"
   ]
  },
  {
   "cell_type": "code",
   "execution_count": 294,
   "metadata": {},
   "outputs": [
    {
     "data": {
      "text/html": [
       "<style>#sk-container-id-22 {color: black;}#sk-container-id-22 pre{padding: 0;}#sk-container-id-22 div.sk-toggleable {background-color: white;}#sk-container-id-22 label.sk-toggleable__label {cursor: pointer;display: block;width: 100%;margin-bottom: 0;padding: 0.3em;box-sizing: border-box;text-align: center;}#sk-container-id-22 label.sk-toggleable__label-arrow:before {content: \"▸\";float: left;margin-right: 0.25em;color: #696969;}#sk-container-id-22 label.sk-toggleable__label-arrow:hover:before {color: black;}#sk-container-id-22 div.sk-estimator:hover label.sk-toggleable__label-arrow:before {color: black;}#sk-container-id-22 div.sk-toggleable__content {max-height: 0;max-width: 0;overflow: hidden;text-align: left;background-color: #f0f8ff;}#sk-container-id-22 div.sk-toggleable__content pre {margin: 0.2em;color: black;border-radius: 0.25em;background-color: #f0f8ff;}#sk-container-id-22 input.sk-toggleable__control:checked~div.sk-toggleable__content {max-height: 200px;max-width: 100%;overflow: auto;}#sk-container-id-22 input.sk-toggleable__control:checked~label.sk-toggleable__label-arrow:before {content: \"▾\";}#sk-container-id-22 div.sk-estimator input.sk-toggleable__control:checked~label.sk-toggleable__label {background-color: #d4ebff;}#sk-container-id-22 div.sk-label input.sk-toggleable__control:checked~label.sk-toggleable__label {background-color: #d4ebff;}#sk-container-id-22 input.sk-hidden--visually {border: 0;clip: rect(1px 1px 1px 1px);clip: rect(1px, 1px, 1px, 1px);height: 1px;margin: -1px;overflow: hidden;padding: 0;position: absolute;width: 1px;}#sk-container-id-22 div.sk-estimator {font-family: monospace;background-color: #f0f8ff;border: 1px dotted black;border-radius: 0.25em;box-sizing: border-box;margin-bottom: 0.5em;}#sk-container-id-22 div.sk-estimator:hover {background-color: #d4ebff;}#sk-container-id-22 div.sk-parallel-item::after {content: \"\";width: 100%;border-bottom: 1px solid gray;flex-grow: 1;}#sk-container-id-22 div.sk-label:hover label.sk-toggleable__label {background-color: #d4ebff;}#sk-container-id-22 div.sk-serial::before {content: \"\";position: absolute;border-left: 1px solid gray;box-sizing: border-box;top: 0;bottom: 0;left: 50%;z-index: 0;}#sk-container-id-22 div.sk-serial {display: flex;flex-direction: column;align-items: center;background-color: white;padding-right: 0.2em;padding-left: 0.2em;position: relative;}#sk-container-id-22 div.sk-item {position: relative;z-index: 1;}#sk-container-id-22 div.sk-parallel {display: flex;align-items: stretch;justify-content: center;background-color: white;position: relative;}#sk-container-id-22 div.sk-item::before, #sk-container-id-22 div.sk-parallel-item::before {content: \"\";position: absolute;border-left: 1px solid gray;box-sizing: border-box;top: 0;bottom: 0;left: 50%;z-index: -1;}#sk-container-id-22 div.sk-parallel-item {display: flex;flex-direction: column;z-index: 1;position: relative;background-color: white;}#sk-container-id-22 div.sk-parallel-item:first-child::after {align-self: flex-end;width: 50%;}#sk-container-id-22 div.sk-parallel-item:last-child::after {align-self: flex-start;width: 50%;}#sk-container-id-22 div.sk-parallel-item:only-child::after {width: 0;}#sk-container-id-22 div.sk-dashed-wrapped {border: 1px dashed gray;margin: 0 0.4em 0.5em 0.4em;box-sizing: border-box;padding-bottom: 0.4em;background-color: white;}#sk-container-id-22 div.sk-label label {font-family: monospace;font-weight: bold;display: inline-block;line-height: 1.2em;}#sk-container-id-22 div.sk-label-container {text-align: center;}#sk-container-id-22 div.sk-container {/* jupyter's `normalize.less` sets `[hidden] { display: none; }` but bootstrap.min.css set `[hidden] { display: none !important; }` so we also need the `!important` here to be able to override the default hidden behavior on the sphinx rendered scikit-learn.org. See: https://github.com/scikit-learn/scikit-learn/issues/21755 */display: inline-block !important;position: relative;}#sk-container-id-22 div.sk-text-repr-fallback {display: none;}</style><div id=\"sk-container-id-22\" class=\"sk-top-container\"><div class=\"sk-text-repr-fallback\"><pre>Pipeline(steps=[(&#x27;preprocessor&#x27;,\n",
       "                 Pipeline(steps=[(&#x27;count_vect&#x27;, CountVectorizer()),\n",
       "                                 (&#x27;tfidf&#x27;, TfidfTransformer())])),\n",
       "                (&#x27;classifier&#x27;, SVC(random_state=42))])</pre><b>In a Jupyter environment, please rerun this cell to show the HTML representation or trust the notebook. <br />On GitHub, the HTML representation is unable to render, please try loading this page with nbviewer.org.</b></div><div class=\"sk-container\" hidden><div class=\"sk-item sk-dashed-wrapped\"><div class=\"sk-label-container\"><div class=\"sk-label sk-toggleable\"><input class=\"sk-toggleable__control sk-hidden--visually\" id=\"sk-estimator-id-109\" type=\"checkbox\" ><label for=\"sk-estimator-id-109\" class=\"sk-toggleable__label sk-toggleable__label-arrow\">Pipeline</label><div class=\"sk-toggleable__content\"><pre>Pipeline(steps=[(&#x27;preprocessor&#x27;,\n",
       "                 Pipeline(steps=[(&#x27;count_vect&#x27;, CountVectorizer()),\n",
       "                                 (&#x27;tfidf&#x27;, TfidfTransformer())])),\n",
       "                (&#x27;classifier&#x27;, SVC(random_state=42))])</pre></div></div></div><div class=\"sk-serial\"><div class=\"sk-item\"><div class=\"sk-label-container\"><div class=\"sk-label sk-toggleable\"><input class=\"sk-toggleable__control sk-hidden--visually\" id=\"sk-estimator-id-110\" type=\"checkbox\" ><label for=\"sk-estimator-id-110\" class=\"sk-toggleable__label sk-toggleable__label-arrow\">preprocessor: Pipeline</label><div class=\"sk-toggleable__content\"><pre>Pipeline(steps=[(&#x27;count_vect&#x27;, CountVectorizer()),\n",
       "                (&#x27;tfidf&#x27;, TfidfTransformer())])</pre></div></div></div><div class=\"sk-serial\"><div class=\"sk-item\"><div class=\"sk-estimator sk-toggleable\"><input class=\"sk-toggleable__control sk-hidden--visually\" id=\"sk-estimator-id-111\" type=\"checkbox\" ><label for=\"sk-estimator-id-111\" class=\"sk-toggleable__label sk-toggleable__label-arrow\">CountVectorizer</label><div class=\"sk-toggleable__content\"><pre>CountVectorizer()</pre></div></div></div><div class=\"sk-item\"><div class=\"sk-estimator sk-toggleable\"><input class=\"sk-toggleable__control sk-hidden--visually\" id=\"sk-estimator-id-112\" type=\"checkbox\" ><label for=\"sk-estimator-id-112\" class=\"sk-toggleable__label sk-toggleable__label-arrow\">TfidfTransformer</label><div class=\"sk-toggleable__content\"><pre>TfidfTransformer()</pre></div></div></div></div></div><div class=\"sk-item\"><div class=\"sk-estimator sk-toggleable\"><input class=\"sk-toggleable__control sk-hidden--visually\" id=\"sk-estimator-id-113\" type=\"checkbox\" ><label for=\"sk-estimator-id-113\" class=\"sk-toggleable__label sk-toggleable__label-arrow\">SVC</label><div class=\"sk-toggleable__content\"><pre>SVC(random_state=42)</pre></div></div></div></div></div></div></div>"
      ],
      "text/plain": [
       "Pipeline(steps=[('preprocessor',\n",
       "                 Pipeline(steps=[('count_vect', CountVectorizer()),\n",
       "                                 ('tfidf', TfidfTransformer())])),\n",
       "                ('classifier', SVC(random_state=42))])"
      ]
     },
     "execution_count": 294,
     "metadata": {},
     "output_type": "execute_result"
    }
   ],
   "source": [
    "preprocessor = Pipeline(\n",
    "    steps=[\n",
    "        ('count_vect', CountVectorizer()), \n",
    "        ('tfidf', TfidfTransformer())\n",
    "        ]\n",
    ")\n",
    "\n",
    "# Using a Pipeline to automate preprocessing and training\n",
    "clf = Pipeline(\n",
    "    steps=[(\"preprocessor\", preprocessor), (\"classifier\", SVC(random_state=42))]\n",
    ")\n",
    "\n",
    "clf.fit(X_train, y_train)"
   ]
  },
  {
   "cell_type": "markdown",
   "metadata": {},
   "source": [
    "#### Evaluation"
   ]
  },
  {
   "cell_type": "markdown",
   "metadata": {},
   "source": [
    "Confusion matrix"
   ]
  },
  {
   "cell_type": "code",
   "execution_count": 295,
   "metadata": {},
   "outputs": [
    {
     "data": {
      "text/plain": [
       "<sklearn.metrics._plot.confusion_matrix.ConfusionMatrixDisplay at 0x214a9afd8d0>"
      ]
     },
     "execution_count": 295,
     "metadata": {},
     "output_type": "execute_result"
    },
    {
     "data": {
      "image/png": "[encoded data removed]",
      "text/plain": [
       "<Figure size 640x480 with 2 Axes>"
      ]
     },
     "metadata": {},
     "output_type": "display_data"
    }
   ],
   "source": [
    "predictions = clf.predict(X_test)\n",
    "cm = confusion_matrix(y_test, predictions)\n",
    "disp = ConfusionMatrixDisplay(confusion_matrix=cm, display_labels=clf.classes_)\n",
    "disp.plot()"
   ]
  },
  {
   "cell_type": "markdown",
   "metadata": {},
   "source": [
    "Classification report"
   ]
  },
  {
   "cell_type": "code",
   "execution_count": 296,
   "metadata": {},
   "outputs": [
    {
     "name": "stdout",
     "output_type": "stream",
     "text": [
      "               precision    recall  f1-score   support\n",
      "\n",
      "     business       0.95      0.98      0.97       117\n",
      "entertainment       0.98      0.99      0.98        88\n",
      "     politics       0.98      0.94      0.96        93\n",
      "        sport       0.99      1.00      1.00       110\n",
      "         tech       0.96      0.94      0.95        84\n",
      "\n",
      "     accuracy                           0.97       492\n",
      "    macro avg       0.97      0.97      0.97       492\n",
      " weighted avg       0.97      0.97      0.97       492\n",
      "\n"
     ]
    }
   ],
   "source": [
    "print(classification_report(y_test, predictions))"
   ]
  },
  {
   "cell_type": "markdown",
   "metadata": {},
   "source": [
    "##### Export "
   ]
  },
  {
   "cell_type": "code",
   "execution_count": null,
   "metadata": {},
   "outputs": [],
   "source": []
  },
  {
   "cell_type": "markdown",
   "metadata": {},
   "source": [
    "### K-neighbor Classifier"
   ]
  },
  {
   "cell_type": "markdown",
   "metadata": {},
   "source": [
    "#### Training"
   ]
  },
  {
   "cell_type": "code",
   "execution_count": 297,
   "metadata": {},
   "outputs": [
    {
     "data": {
      "text/html": [
       "<style>#sk-container-id-23 {color: black;}#sk-container-id-23 pre{padding: 0;}#sk-container-id-23 div.sk-toggleable {background-color: white;}#sk-container-id-23 label.sk-toggleable__label {cursor: pointer;display: block;width: 100%;margin-bottom: 0;padding: 0.3em;box-sizing: border-box;text-align: center;}#sk-container-id-23 label.sk-toggleable__label-arrow:before {content: \"▸\";float: left;margin-right: 0.25em;color: #696969;}#sk-container-id-23 label.sk-toggleable__label-arrow:hover:before {color: black;}#sk-container-id-23 div.sk-estimator:hover label.sk-toggleable__label-arrow:before {color: black;}#sk-container-id-23 div.sk-toggleable__content {max-height: 0;max-width: 0;overflow: hidden;text-align: left;background-color: #f0f8ff;}#sk-container-id-23 div.sk-toggleable__content pre {margin: 0.2em;color: black;border-radius: 0.25em;background-color: #f0f8ff;}#sk-container-id-23 input.sk-toggleable__control:checked~div.sk-toggleable__content {max-height: 200px;max-width: 100%;overflow: auto;}#sk-container-id-23 input.sk-toggleable__control:checked~label.sk-toggleable__label-arrow:before {content: \"▾\";}#sk-container-id-23 div.sk-estimator input.sk-toggleable__control:checked~label.sk-toggleable__label {background-color: #d4ebff;}#sk-container-id-23 div.sk-label input.sk-toggleable__control:checked~label.sk-toggleable__label {background-color: #d4ebff;}#sk-container-id-23 input.sk-hidden--visually {border: 0;clip: rect(1px 1px 1px 1px);clip: rect(1px, 1px, 1px, 1px);height: 1px;margin: -1px;overflow: hidden;padding: 0;position: absolute;width: 1px;}#sk-container-id-23 div.sk-estimator {font-family: monospace;background-color: #f0f8ff;border: 1px dotted black;border-radius: 0.25em;box-sizing: border-box;margin-bottom: 0.5em;}#sk-container-id-23 div.sk-estimator:hover {background-color: #d4ebff;}#sk-container-id-23 div.sk-parallel-item::after {content: \"\";width: 100%;border-bottom: 1px solid gray;flex-grow: 1;}#sk-container-id-23 div.sk-label:hover label.sk-toggleable__label {background-color: #d4ebff;}#sk-container-id-23 div.sk-serial::before {content: \"\";position: absolute;border-left: 1px solid gray;box-sizing: border-box;top: 0;bottom: 0;left: 50%;z-index: 0;}#sk-container-id-23 div.sk-serial {display: flex;flex-direction: column;align-items: center;background-color: white;padding-right: 0.2em;padding-left: 0.2em;position: relative;}#sk-container-id-23 div.sk-item {position: relative;z-index: 1;}#sk-container-id-23 div.sk-parallel {display: flex;align-items: stretch;justify-content: center;background-color: white;position: relative;}#sk-container-id-23 div.sk-item::before, #sk-container-id-23 div.sk-parallel-item::before {content: \"\";position: absolute;border-left: 1px solid gray;box-sizing: border-box;top: 0;bottom: 0;left: 50%;z-index: -1;}#sk-container-id-23 div.sk-parallel-item {display: flex;flex-direction: column;z-index: 1;position: relative;background-color: white;}#sk-container-id-23 div.sk-parallel-item:first-child::after {align-self: flex-end;width: 50%;}#sk-container-id-23 div.sk-parallel-item:last-child::after {align-self: flex-start;width: 50%;}#sk-container-id-23 div.sk-parallel-item:only-child::after {width: 0;}#sk-container-id-23 div.sk-dashed-wrapped {border: 1px dashed gray;margin: 0 0.4em 0.5em 0.4em;box-sizing: border-box;padding-bottom: 0.4em;background-color: white;}#sk-container-id-23 div.sk-label label {font-family: monospace;font-weight: bold;display: inline-block;line-height: 1.2em;}#sk-container-id-23 div.sk-label-container {text-align: center;}#sk-container-id-23 div.sk-container {/* jupyter's `normalize.less` sets `[hidden] { display: none; }` but bootstrap.min.css set `[hidden] { display: none !important; }` so we also need the `!important` here to be able to override the default hidden behavior on the sphinx rendered scikit-learn.org. See: https://github.com/scikit-learn/scikit-learn/issues/21755 */display: inline-block !important;position: relative;}#sk-container-id-23 div.sk-text-repr-fallback {display: none;}</style><div id=\"sk-container-id-23\" class=\"sk-top-container\"><div class=\"sk-text-repr-fallback\"><pre>Pipeline(steps=[(&#x27;preprocessor&#x27;,\n",
       "                 Pipeline(steps=[(&#x27;count_vect&#x27;, CountVectorizer()),\n",
       "                                 (&#x27;tfidf&#x27;, TfidfTransformer())])),\n",
       "                (&#x27;classifier&#x27;, KNeighborsClassifier())])</pre><b>In a Jupyter environment, please rerun this cell to show the HTML representation or trust the notebook. <br />On GitHub, the HTML representation is unable to render, please try loading this page with nbviewer.org.</b></div><div class=\"sk-container\" hidden><div class=\"sk-item sk-dashed-wrapped\"><div class=\"sk-label-container\"><div class=\"sk-label sk-toggleable\"><input class=\"sk-toggleable__control sk-hidden--visually\" id=\"sk-estimator-id-114\" type=\"checkbox\" ><label for=\"sk-estimator-id-114\" class=\"sk-toggleable__label sk-toggleable__label-arrow\">Pipeline</label><div class=\"sk-toggleable__content\"><pre>Pipeline(steps=[(&#x27;preprocessor&#x27;,\n",
       "                 Pipeline(steps=[(&#x27;count_vect&#x27;, CountVectorizer()),\n",
       "                                 (&#x27;tfidf&#x27;, TfidfTransformer())])),\n",
       "                (&#x27;classifier&#x27;, KNeighborsClassifier())])</pre></div></div></div><div class=\"sk-serial\"><div class=\"sk-item\"><div class=\"sk-label-container\"><div class=\"sk-label sk-toggleable\"><input class=\"sk-toggleable__control sk-hidden--visually\" id=\"sk-estimator-id-115\" type=\"checkbox\" ><label for=\"sk-estimator-id-115\" class=\"sk-toggleable__label sk-toggleable__label-arrow\">preprocessor: Pipeline</label><div class=\"sk-toggleable__content\"><pre>Pipeline(steps=[(&#x27;count_vect&#x27;, CountVectorizer()),\n",
       "                (&#x27;tfidf&#x27;, TfidfTransformer())])</pre></div></div></div><div class=\"sk-serial\"><div class=\"sk-item\"><div class=\"sk-estimator sk-toggleable\"><input class=\"sk-toggleable__control sk-hidden--visually\" id=\"sk-estimator-id-116\" type=\"checkbox\" ><label for=\"sk-estimator-id-116\" class=\"sk-toggleable__label sk-toggleable__label-arrow\">CountVectorizer</label><div class=\"sk-toggleable__content\"><pre>CountVectorizer()</pre></div></div></div><div class=\"sk-item\"><div class=\"sk-estimator sk-toggleable\"><input class=\"sk-toggleable__control sk-hidden--visually\" id=\"sk-estimator-id-117\" type=\"checkbox\" ><label for=\"sk-estimator-id-117\" class=\"sk-toggleable__label sk-toggleable__label-arrow\">TfidfTransformer</label><div class=\"sk-toggleable__content\"><pre>TfidfTransformer()</pre></div></div></div></div></div><div class=\"sk-item\"><div class=\"sk-estimator sk-toggleable\"><input class=\"sk-toggleable__control sk-hidden--visually\" id=\"sk-estimator-id-118\" type=\"checkbox\" ><label for=\"sk-estimator-id-118\" class=\"sk-toggleable__label sk-toggleable__label-arrow\">KNeighborsClassifier</label><div class=\"sk-toggleable__content\"><pre>KNeighborsClassifier()</pre></div></div></div></div></div></div></div>"
      ],
      "text/plain": [
       "Pipeline(steps=[('preprocessor',\n",
       "                 Pipeline(steps=[('count_vect', CountVectorizer()),\n",
       "                                 ('tfidf', TfidfTransformer())])),\n",
       "                ('classifier', KNeighborsClassifier())])"
      ]
     },
     "execution_count": 297,
     "metadata": {},
     "output_type": "execute_result"
    }
   ],
   "source": [
    "preprocessor = Pipeline(\n",
    "    steps=[\n",
    "        ('count_vect', CountVectorizer()), \n",
    "        ('tfidf', TfidfTransformer())\n",
    "        # ('standardScaler', StandardScaler(with_mean=False)) ### With the scaler, we obtain a really bad accuracy..\n",
    "    ]\n",
    ")\n",
    "\n",
    "knc = Pipeline(\n",
    "    steps=[\n",
    "        (\"preprocessor\", preprocessor),\n",
    "        (\"classifier\", KNeighborsClassifier()) \n",
    "    ]\n",
    ")\n",
    "\n",
    "# Fit the pipeline on the training data\n",
    "knc.fit(X_train, y_train)"
   ]
  },
  {
   "cell_type": "markdown",
   "metadata": {},
   "source": [
    "#### Evaluation"
   ]
  },
  {
   "cell_type": "markdown",
   "metadata": {},
   "source": [
    "##### Confusion matrix"
   ]
  },
  {
   "cell_type": "code",
   "execution_count": 298,
   "metadata": {},
   "outputs": [
    {
     "data": {
      "text/plain": [
       "<sklearn.metrics._plot.confusion_matrix.ConfusionMatrixDisplay at 0x214ab5f89a0>"
      ]
     },
     "execution_count": 298,
     "metadata": {},
     "output_type": "execute_result"
    },
    {
     "data": {
      "image/png": "[encoded data removed]",
      "text/plain": [
       "<Figure size 640x480 with 2 Axes>"
      ]
     },
     "metadata": {},
     "output_type": "display_data"
    }
   ],
   "source": [
    "# Make predictions\n",
    "predictions = knc.predict(X_test)\n",
    "cm = confusion_matrix(y_test, predictions)\n",
    "disp = ConfusionMatrixDisplay(confusion_matrix=cm, display_labels=knc.classes_)\n",
    "disp.plot()"
   ]
  },
  {
   "cell_type": "markdown",
   "metadata": {},
   "source": [
    "##### Classification report"
   ]
  },
  {
   "cell_type": "code",
   "execution_count": 299,
   "metadata": {},
   "outputs": [
    {
     "name": "stdout",
     "output_type": "stream",
     "text": [
      "               precision    recall  f1-score   support\n",
      "\n",
      "     business       0.96      0.94      0.95       117\n",
      "entertainment       0.96      0.92      0.94        88\n",
      "     politics       0.88      0.95      0.91        93\n",
      "        sport       0.99      0.98      0.99       110\n",
      "         tech       0.93      0.93      0.93        84\n",
      "\n",
      "     accuracy                           0.95       492\n",
      "    macro avg       0.94      0.94      0.94       492\n",
      " weighted avg       0.95      0.95      0.95       492\n",
      "\n"
     ]
    }
   ],
   "source": [
    "print(classification_report(y_test, predictions))"
   ]
  },
  {
   "cell_type": "markdown",
   "metadata": {},
   "source": [
    "##### Cross validation"
   ]
  },
  {
   "cell_type": "code",
   "execution_count": 300,
   "metadata": {},
   "outputs": [],
   "source": [
    "# # Define the preprocessor pipeline\n",
    "# preprocessor = make_pipeline(\n",
    "#     CountVectorizer(), \n",
    "#     TfidfTransformer(),\n",
    "#     StandardScaler(with_mean=False)  # Assuming you are using sparse matrices\n",
    "# )\n",
    "\n",
    "# # Preprocess the training data\n",
    "# X_train_preprocessed = preprocessor.fit_transform(X)\n",
    "\n",
    "# # Define k values\n",
    "# k_values = list(range(1, 31))\n",
    "# scores = []\n",
    "\n",
    "# for k in k_values:\n",
    "#     knn = KNeighborsClassifier(n_neighbors=k)\n",
    "#     score = np.mean(cross_val_score(knn, X_train_preprocessed, y, cv=5))\n",
    "#     scores.append(score)\n",
    "\n",
    "# # Plot the results\n",
    "# sns.lineplot(x=k_values, y=scores, marker='o')\n",
    "# plt.xlabel(\"K Values\")\n",
    "# plt.ylabel(\"Accuracy Score\")\n",
    "# plt.title(\"Cross-Validation Accuracy for Different K Values\")\n",
    "# plt.show()\n",
    "\n",
    "# CE CODE DURE 5MN. Une copie du graph est dans le repertoir image du rapport sous le nom `cross_validation_knc.png`"
   ]
  }
 ],
 "metadata": {
  "kernelspec": {
   "display_name": "tatia-QTGPQezk",
   "language": "python",
   "name": "python3"
  },
  "language_info": {
   "codemirror_mode": {
    "name": "ipython",
    "version": 3
   },
   "file_extension": ".py",
   "mimetype": "text/x-python",
   "name": "python",
   "nbconvert_exporter": "python",
   "pygments_lexer": "ipython3",
   "version": "3.10.0"
  }
 },
 "nbformat": 4,
 "nbformat_minor": 2
}
